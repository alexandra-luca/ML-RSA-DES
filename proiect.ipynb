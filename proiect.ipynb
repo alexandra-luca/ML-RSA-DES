{
 "cells": [
  {
   "cell_type": "code",
   "execution_count": 641,
   "id": "bd4988a5-e038-426f-a711-2af9b2ffd37f",
   "metadata": {},
   "outputs": [],
   "source": [
    "import random\n",
    "import json\n",
    "import matplotlib\n",
    "import Crypto\n",
    "from Crypto.PublicKey import RSA\n",
    "from Crypto import Random\n",
    "from Crypto.Cipher import PKCS1_OAEP, DES\n",
    "import torch\n",
    "from torch import nn\n",
    "from torch.utils.data import DataLoader\n",
    "from torch.utils.data import Dataset\n",
    "import torch.optim as optim\n",
    "import torchvision.transforms as transforms\n",
    "import matplotlib.pyplot as plt\n",
    "import pandas as pd"
   ]
  },
  {
   "cell_type": "code",
   "execution_count": 51,
   "id": "63b5a70f-c440-4abb-8374-cb593e2e3d02",
   "metadata": {},
   "outputs": [],
   "source": [
    "def generate_plaintext(length):\n",
    "    alphabet = \"abcdefghijklmnopqrstuvwxyzABCDEFGHIJKLMNOPQRSTUVWXYZ0123456789\"\n",
    "    arr = []\n",
    "    for i in range(length):\n",
    "        arr.append(random.choice(alphabet))\n",
    "    return ''.join(arr)"
   ]
  },
  {
   "cell_type": "code",
   "execution_count": 52,
   "id": "be77f33e-0078-4398-8789-f218fed49e6c",
   "metadata": {},
   "outputs": [
    {
     "data": {
      "text/plain": [
       "'uYXjhFWblxmr4RRWWxcrr9BpeuZLPiRM'"
      ]
     },
     "execution_count": 52,
     "metadata": {},
     "output_type": "execute_result"
    }
   ],
   "source": [
    "generate_plaintext(32)"
   ]
  },
  {
   "cell_type": "code",
   "execution_count": 53,
   "id": "b24846a6-04f6-45a4-ad7a-d372ae80ea6f",
   "metadata": {},
   "outputs": [],
   "source": [
    "with open('words_dictionary.json') as file:\n",
    "    dictionary = list(json.load(file).keys())"
   ]
  },
  {
   "cell_type": "code",
   "execution_count": 54,
   "id": "100ef862-3ce2-4580-98f9-14b76ee8f839",
   "metadata": {},
   "outputs": [],
   "source": [
    "def generate_plaintext_words(length):\n",
    "    arr = []\n",
    "    for i in range(length):\n",
    "        arr.append(random.choice(dictionary))\n",
    "    return ' '.join(arr)"
   ]
  },
  {
   "cell_type": "code",
   "execution_count": 55,
   "id": "4728f2b2-e970-44ab-90da-606e9ad8181d",
   "metadata": {},
   "outputs": [
    {
     "data": {
      "text/plain": [
       "'homogene physeteroid commercialized readapted megalichthyidae theologise mistraces supply alapa animis pratensian scotomas volcanologize syllab hypoalbuminemia clinandrdria holoptychiid unstructurally tenementary unfinishedness'"
      ]
     },
     "execution_count": 55,
     "metadata": {},
     "output_type": "execute_result"
    }
   ],
   "source": [
    "generate_plaintext_words(20)"
   ]
  },
  {
   "cell_type": "code",
   "execution_count": 56,
   "id": "85bd1827-28a0-419d-8fe6-a8f0d2f05851",
   "metadata": {},
   "outputs": [],
   "source": [
    "def create_datasets(count):\n",
    "    dataset_random = []\n",
    "    dataset_words = []\n",
    "    for i in range(count):\n",
    "        dataset_random.append(generate_plaintext(128))\n",
    "        dataset_words.append(generate_plaintext_words(40)[:128])\n",
    "    return dataset_random[:int(count*0.9)], dataset_random[int(count*0.9):], dataset_words[:int(count*0.9)], dataset_words[int(count*0.9):]"
   ]
  },
  {
   "cell_type": "code",
   "execution_count": 57,
   "id": "a0cab514-c82a-4002-bda4-892048ecda8d",
   "metadata": {},
   "outputs": [],
   "source": [
    "train_random, test_random, train_words, test_words = create_datasets(1000)"
   ]
  },
  {
   "cell_type": "code",
   "execution_count": 58,
   "id": "de5f9113-8af3-4f6c-908d-c48575ece02e",
   "metadata": {},
   "outputs": [],
   "source": [
    "def enc_rsa(plain):\n",
    "    key = RSA.generate(2048)\n",
    "    # print(plain)\n",
    "    rsa_private = PKCS1_OAEP.new(key)\n",
    "    encrypted = rsa_private.encrypt(str.encode(plain))\n",
    "    # print(encrypted)\n",
    "    # rsa_public = PKCS1_OAEP.new(key)\n",
    "    # decrypted = rsa_public.decrypt(encrypted)\n",
    "    # print(decrypted)\n",
    "    return encrypted"
   ]
  },
  {
   "cell_type": "code",
   "execution_count": 59,
   "id": "815f51d2-34bf-4dce-8379-a95881424834",
   "metadata": {},
   "outputs": [
    {
     "data": {
      "text/plain": [
       "b'v\\x1cI\\xa0@\\xba?\\x0fv\\xb7e\\x19z\\x1b\\xfb\\xe7\\x13&\\x05\\xfd\\xbe\\xda\\x92\\xa5\\x98YQ;m\\x1b\\xa2\\x17\\x11\\xc7\\xd0\\xb2B]\\x15 \\x17\\xcc\\xfb\\xb1\\x8b\\xbb\\xb3U\\x8a\\xa7&\\x08\\xc2Q\\xf0\\xb0\\x8fO\\rt^\\xb8\\xc6>\\x17\\xc4\\xa5Y\\x8d\\xc4P\\xb7G\\xc2\\xc0\\xd4\\xc2`\\xed3\\x81\\x8a\\xd26+\\xcdv\\xff\\xd2Z\\x05\\xd2U6\\xb9\\xa1\\xa5,\\x07\\xc6<j\\x95\\xa1z\\xef\\x7f\\x16$\\xbb\\x8b\\x0e\\xd8>\\x89zc\\x98\\x19I%u\\xe3\\xfcW\\xd9<Jj\\x15\\x1f\\x8b\\xe9\\xee\\x04v\\xaf\\x8d\\xc6O\\xcbBr\\x88Q2?L(\\xd5\\xf6\\xae\\x86\\xa85L\\xa9\\xa1\\xf4\\x10\\x18p-\\xb5\\x83\\x16\\xa3\\x98jsE\\xac\\x05/T\\x93\\xa7\\xc2\\x057\\xed\\xb9\\x05\\x97\\x19XL\\xd5}\\x1d\\xd3K\\xa890\\x03\\x95\\xfb$!\\xf4\\x8e\\xb5\\x196\\xe5+\\x19\\xa5\\x05_\\xc3M\\xe7\\x84\\xec\\x01C{\\x1bA\\x04\\x93Y\\xe0\\xc5(\\x04\\xf3\\xf5\\xd2X\\xed\\x10\"\\xbdM\\xd3g\\x97L5u$\\x9d\\xf6\\xbe\\xed\\xfe\\xf9\\xb4F\\x19~R\\xa6'"
      ]
     },
     "execution_count": 59,
     "metadata": {},
     "output_type": "execute_result"
    }
   ],
   "source": [
    "enc_rsa(train_words[0])"
   ]
  },
  {
   "cell_type": "code",
   "execution_count": 69,
   "id": "99eca6a5-94e9-40e0-9a2b-61b4fd8b9f04",
   "metadata": {},
   "outputs": [],
   "source": [
    "def enc_des(plain):\n",
    "    key = '5sarmale'.encode()\n",
    "    des = DES.new(key, DES.MODE_ECB)\n",
    "    encrypted = des.encrypt(str.encode(plain))\n",
    "    # decrypted = des.decrypt(encrypted)\n",
    "    # print(decrypted)\n",
    "    return encrypted"
   ]
  },
  {
   "cell_type": "code",
   "execution_count": 70,
   "id": "d10e2696-da69-4582-be60-e37f5b3c6561",
   "metadata": {},
   "outputs": [
    {
     "data": {
      "text/plain": [
       "b'c\\xf3h\\xc5\\xeb\\xce\\xa0q\\xce\\x04\\xb4\\xbd4Uom\\xa9\\x93\\x1b\\xf3@z>\\xe8N\\xa2F\\xfd\\x88\\x8f\\xb2\\x0c\\xb0\\x8a\\x7f\\xde1e\\x84\\x01\\x80/\\xfa\\xb8Ak\\x07\\x0es\\xf3\\xd6Dh\\xa9\\x05\\'q\\xcf\\xccmr\\xf8\\xfbx\\xd1\\x82\\x1d`\\r\\xb1\\x04N\\xfd\\x18eO\\xcc\\tG\\x86\\xabb\\xb9\\xdbF\\x0c/+_\\xa0\\xf8uj\\xf5\\xc8\"%\\x03\\xa4\\xb3)i\\xa7\\xbcb\\xa7\\x1byE\\x05\\\\\\xb9\\xa0\\xe4\\x80\\x99T\\xf1\\x8dv\\xac}\\xc2\\xb6\\xc6\\x1b\\x83\\x04'"
      ]
     },
     "execution_count": 70,
     "metadata": {},
     "output_type": "execute_result"
    }
   ],
   "source": [
    "enc_des(train_words[0])"
   ]
  },
  {
   "cell_type": "code",
   "execution_count": 72,
   "id": "3d384fd7-e988-42d5-a94a-4d4ce3406f46",
   "metadata": {},
   "outputs": [],
   "source": [
    "# train_random_des = [enc_des(x) for x in train_random]\n",
    "# test_random_des = [enc_des(x) for x in test_random]\n",
    "# train_words_des = [enc_des(x) for x in train_words]\n",
    "# test_words_des = [enc_des(x) for x in test_words]"
   ]
  },
  {
   "cell_type": "code",
   "execution_count": 73,
   "id": "e17dbe61-136d-4fcb-ab07-ce8d7446d1ec",
   "metadata": {},
   "outputs": [],
   "source": [
    "# train_random_rsa = [enc_rsa(x) for x in train_random]\n",
    "# test_random_rsa = [enc_rsa(x) for x in test_random]\n",
    "# train_words_rsa = [enc_rsa(x) for x in train_words]\n",
    "# test_words_rsa = [enc_rsa(x) for x in test_words]"
   ]
  },
  {
   "cell_type": "code",
   "execution_count": 81,
   "id": "787c6523-3903-4543-98c6-8852061d41b9",
   "metadata": {},
   "outputs": [],
   "source": [
    "# from base64 import b64encode, b64decode\n",
    "# save_plain = [train_random, test_random, train_words, test_words]\n",
    "\n",
    "# save_train_random_des = [b64encode(x).decode() for x in train_random_des]\n",
    "# save_test_random_des = [b64encode(x).decode() for x in test_random_des]\n",
    "# save_train_words_des = [b64encode(x).decode() for x in train_words_des]\n",
    "# save_test_words_des = [b64encode(x).decode() for x in test_words_des]\n",
    "\n",
    "# save_train_random_rsa = [b64encode(x).decode() for x in train_random_rsa]\n",
    "# save_test_random_rsa = [b64encode(x).decode() for x in test_random_rsa]\n",
    "# save_train_words_rsa = [b64encode(x).decode() for x in train_words_rsa]\n",
    "# save_test_words_rsa = [b64encode(x).decode() for x in test_words_rsa]\n",
    "\n",
    "# save_des = [save_train_random_des, save_test_random_des, save_train_words_des, save_test_words_des]\n",
    "# save_rsa = [save_train_random_rsa, save_test_random_rsa, save_train_words_rsa, save_test_words_rsa]\n",
    "# save = [save_plain, save_des, save_rsa]\n",
    "# with open(\"save.json\", \"w\") as file:\n",
    "#     json.dump(save, file, indent=4)"
   ]
  },
  {
   "cell_type": "code",
   "execution_count": 86,
   "id": "00411336-573a-4a73-95e5-8a753066f939",
   "metadata": {},
   "outputs": [
    {
     "name": "stdout",
     "output_type": "stream",
     "text": [
      "b'c\\xf3h\\xc5\\xeb\\xce\\xa0q\\xce\\x04\\xb4\\xbd4Uom\\xa9\\x93\\x1b\\xf3@z>\\xe8N\\xa2F\\xfd\\x88\\x8f\\xb2\\x0c\\xb0\\x8a\\x7f\\xde1e\\x84\\x01\\x80/\\xfa\\xb8Ak\\x07\\x0es\\xf3\\xd6Dh\\xa9\\x05\\'q\\xcf\\xccmr\\xf8\\xfbx\\xd1\\x82\\x1d`\\r\\xb1\\x04N\\xfd\\x18eO\\xcc\\tG\\x86\\xabb\\xb9\\xdbF\\x0c/+_\\xa0\\xf8uj\\xf5\\xc8\"%\\x03\\xa4\\xb3)i\\xa7\\xbcb\\xa7\\x1byE\\x05\\\\\\xb9\\xa0\\xe4\\x80\\x99T\\xf1\\x8dv\\xac}\\xc2\\xb6\\xc6\\x1b\\x83\\x04'\n"
     ]
    }
   ],
   "source": [
    "from base64 import b64encode, b64decode\n",
    "\n",
    "with open(\"save.json\") as file:\n",
    "    data = json.load(file)\n",
    "    \n",
    "[save_plain, save_des, save_rsa] = data\n",
    "[train_random, test_random, train_words, test_words] = save_plain\n",
    "[save_train_random_des, save_test_random_des, save_train_words_des, save_test_words_des] = save_des\n",
    "[save_train_random_rsa, save_test_random_rsa, save_train_words_rsa, save_test_words_rsa] = save_rsa\n",
    "\n",
    "train_random_des = [b64decode(x) for x in save_train_random_des]\n",
    "test_random_des = [b64decode(x) for x in save_test_random_des]\n",
    "train_words_des = [b64decode(x) for x in save_train_words_des]\n",
    "test_words_des = [b64decode(x) for x in save_test_words_des]\n",
    "\n",
    "train_random_rsa = [b64decode(x) for x in save_train_random_rsa]\n",
    "test_random_rsa = [b64decode(x) for x in save_test_random_rsa]\n",
    "train_words_rsa = [b64decode(x) for x in save_train_words_rsa]\n",
    "test_words_rsa = [b64decode(x) for x in save_test_words_rsa]\n",
    "\n",
    "print(train_words_des[0])"
   ]
  },
  {
   "cell_type": "code",
   "execution_count": 626,
   "id": "1f20d3e9-f942-44b0-a596-e2420ee55033",
   "metadata": {},
   "outputs": [],
   "source": [
    "class NeuralNetwork(nn.Module):\n",
    "    def __init__(self):\n",
    "        super(NeuralNetwork, self).__init__()\n",
    "        # self.flatten = nn.Flatten()\n",
    "        self.linear_relu_stack = nn.Sequential(\n",
    "            nn.Linear(128, 16),\n",
    "            nn.ReLU(),\n",
    "            # nn.Linear(32, 16),\n",
    "            # nn.ReLU(),\n",
    "            nn.Linear(16, 2),\n",
    "            nn.ReLU(),\n",
    "            # nn.Softmax()\n",
    "        )\n",
    "\n",
    "    def forward(self, x):\n",
    "        x = torch.flatten(x, 1)\n",
    "        logits = self.linear_relu_stack(x)\n",
    "        return logits"
   ]
  },
  {
   "cell_type": "code",
   "execution_count": 627,
   "id": "71a7b4b1-5ced-4103-a5d7-ed3ecaadb737",
   "metadata": {},
   "outputs": [
    {
     "name": "stdout",
     "output_type": "stream",
     "text": [
      "NeuralNetwork(\n",
      "  (linear_relu_stack): Sequential(\n",
      "    (0): Linear(in_features=128, out_features=16, bias=True)\n",
      "    (1): ReLU()\n",
      "    (2): Linear(in_features=16, out_features=2, bias=True)\n",
      "    (3): ReLU()\n",
      "  )\n",
      ")\n"
     ]
    }
   ],
   "source": [
    "model = NeuralNetwork()\n",
    "print(model)"
   ]
  },
  {
   "cell_type": "code",
   "execution_count": 628,
   "id": "33cb3ce3-ee90-4fa1-b16e-33a01b1cac69",
   "metadata": {},
   "outputs": [],
   "source": [
    "# input_value = torch.frombuffer(train_random_des[1], dtype=torch.float)\n",
    "# model(input_value)"
   ]
  },
  {
   "cell_type": "code",
   "execution_count": 629,
   "id": "e16e7886-2e8a-4093-a159-5f3cdf002ed0",
   "metadata": {},
   "outputs": [],
   "source": [
    "class CustomDataset(Dataset):\n",
    "    def __init__(self, use_random, use_words, transform=None):\n",
    "        self.transform = transform\n",
    "        trainset = []\n",
    "        \n",
    "        if use_random:\n",
    "            for x in train_random_rsa:\n",
    "                trainset.append({\n",
    "                    'data': x[:128],\n",
    "                    'label': 0,\n",
    "                })\n",
    "            for x in train_random_des:\n",
    "                trainset.append({\n",
    "                    'data': x,\n",
    "                    'label': 1,\n",
    "                })\n",
    "        \n",
    "        if use_words:\n",
    "            for x in train_words_rsa:\n",
    "                trainset.append({\n",
    "                    'data': x[:128],\n",
    "                    'label': 0,\n",
    "                })\n",
    "            for x in train_words_des:\n",
    "                trainset.append({\n",
    "                    'data': x,\n",
    "                    'label': 1,\n",
    "                })\n",
    "        \n",
    "        random.shuffle(trainset)\n",
    "        self.trainset = trainset\n",
    "\n",
    "    def __len__(self):\n",
    "        return len(self.trainset)\n",
    "\n",
    "    def __getitem__(self, idx):\n",
    "        item = self.trainset[idx]\n",
    "        \n",
    "        if self.transform:\n",
    "            item = self.transform(item)\n",
    "            \n",
    "        item_tensor = torch.frombuffer(item['data'], dtype=torch.uint8)/255\n",
    "        label_tensor = torch.FloatTensor(item['label'])\n",
    "\n",
    "        return torch.nan_to_num(item_tensor), item['label'] "
   ]
  },
  {
   "cell_type": "code",
   "execution_count": 630,
   "id": "482e4029-baa1-4d09-b959-634701d910fb",
   "metadata": {},
   "outputs": [],
   "source": [
    "# transform = transforms.Compose(\n",
    "#     [transforms.ToTensor(),\n",
    "#      transforms.Normalize((0.5, 0.5, 0.5), (0.5, 0.5, 0.5))])"
   ]
  },
  {
   "cell_type": "code",
   "execution_count": 631,
   "id": "c198e874-3f22-4aa5-9e54-aec5b6f10abe",
   "metadata": {},
   "outputs": [
    {
     "data": {
      "text/plain": [
       "1800"
      ]
     },
     "execution_count": 631,
     "metadata": {},
     "output_type": "execute_result"
    }
   ],
   "source": [
    "dataset = CustomDataset(False, True)\n",
    "dataset.__len__()"
   ]
  },
  {
   "cell_type": "code",
   "execution_count": 632,
   "id": "766bee18-a541-4edb-953d-9dfc033b48d6",
   "metadata": {},
   "outputs": [],
   "source": [
    "trainloader = torch.utils.data.DataLoader(dataset, batch_size=8, num_workers=0)"
   ]
  },
  {
   "cell_type": "code",
   "execution_count": 633,
   "id": "7b76bff3-8011-4976-a438-d936adde689f",
   "metadata": {},
   "outputs": [],
   "source": [
    "criterion = nn.CrossEntropyLoss()\n",
    "optimizer = optim.SGD(model.parameters(), lr=0.001, momentum=0.9)\n",
    "# print(list(model.parameters()))"
   ]
  },
  {
   "cell_type": "code",
   "execution_count": 639,
   "id": "0279d72e-8790-4fae-b3e5-ac03f2d327e8",
   "metadata": {},
   "outputs": [
    {
     "name": "stdout",
     "output_type": "stream",
     "text": [
      "224/400\n"
     ]
    },
    {
     "data": {
      "text/plain": [
       "(224, 400, 111, 87, 89, 113)"
      ]
     },
     "execution_count": 639,
     "metadata": {},
     "output_type": "execute_result"
    }
   ],
   "source": [
    "def measure(use_random, use_words):\n",
    "    testset = []\n",
    "\n",
    "    if use_random:\n",
    "        for x in test_random_rsa:\n",
    "            testset.append({\n",
    "                'data': x[:128],\n",
    "                'label': 0,\n",
    "            })\n",
    "        for x in test_random_des:\n",
    "            testset.append({\n",
    "                'data': x,\n",
    "                'label': 1,\n",
    "            })\n",
    "\n",
    "    if use_words:\n",
    "        for x in test_words_rsa:\n",
    "            testset.append({\n",
    "                'data': x[:128],\n",
    "                'label': 0,\n",
    "            })\n",
    "        for x in test_words_des:\n",
    "            testset.append({\n",
    "                'data': x,\n",
    "                'label': 1,\n",
    "            })\n",
    "\n",
    "    random.shuffle(testset)\n",
    "    \n",
    "    count_correct = 0\n",
    "    \n",
    "    c_rr = 0\n",
    "    c_rd = 0\n",
    "    c_dr = 0\n",
    "    c_dd = 0\n",
    "    \n",
    "    model.eval()\n",
    "    with torch.no_grad():\n",
    "        for idx in range(len(testset)):\n",
    "            item = testset[idx]\n",
    "            item_tensor = torch.frombuffer(item['data'], dtype=torch.uint8)/255\n",
    "            label_tensor = torch.FloatTensor(item['label'])\n",
    "\n",
    "            item_input = torch.nan_to_num(item_tensor)\n",
    "            item_batch_input = torch.unsqueeze(item_input, 0)\n",
    "\n",
    "            output = model(item_batch_input)\n",
    "\n",
    "            # print(output)\n",
    "\n",
    "            predicted_class = 'rsa' if output[0][0] > output[0][1] else 'des'\n",
    "            true_class = 'rsa' if item['label'] == 0 else 'des'\n",
    "\n",
    "            if predicted_class == 'rsa' and true_class == 'rsa':\n",
    "                c_rr += 1\n",
    "            if predicted_class == 'rsa' and true_class == 'des':\n",
    "                c_rd += 1\n",
    "            if predicted_class == 'des' and true_class == 'rsa':\n",
    "                c_dr += 1\n",
    "            if predicted_class == 'des' and true_class == 'des':\n",
    "                c_dd += 1\n",
    "            \n",
    "            if predicted_class == true_class:\n",
    "                count_correct += 1\n",
    "    \n",
    "    print(f'{count_correct}/{len(testset)}')\n",
    "    return count_correct, len(testset), c_rr, c_rd, c_dr, c_dd\n",
    "\n",
    "measure(True, True)"
   ]
  },
  {
   "cell_type": "code",
   "execution_count": 635,
   "id": "0af56ab2-2e9c-46d7-bf70-9241c68e714d",
   "metadata": {},
   "outputs": [
    {
     "name": "stdout",
     "output_type": "stream",
     "text": [
      "[1] loss: 156.00836408138275\n",
      "100/200\n",
      "[2] loss: 155.8774869441986\n",
      "99/200\n",
      "[3] loss: 155.8295783996582\n",
      "99/200\n",
      "[4] loss: 155.7978047132492\n",
      "99/200\n",
      "[5] loss: 155.7726845741272\n",
      "99/200\n",
      "[6] loss: 155.7372566461563\n",
      "99/200\n",
      "[7] loss: 155.68449473381042\n",
      "99/200\n",
      "[8] loss: 155.6458158493042\n",
      "99/200\n",
      "[9] loss: 155.6103680729866\n",
      "99/200\n",
      "[10] loss: 155.55102843046188\n",
      "99/200\n",
      "[11] loss: 155.47409516572952\n",
      "99/200\n",
      "[12] loss: 155.36287707090378\n",
      "100/200\n",
      "[13] loss: 155.30418264865875\n",
      "100/200\n",
      "[14] loss: 155.13033217191696\n",
      "100/200\n",
      "[15] loss: 154.99264305830002\n",
      "100/200\n",
      "[16] loss: 154.85376286506653\n",
      "100/200\n",
      "[17] loss: 154.64321595430374\n",
      "100/200\n",
      "[18] loss: 154.4408968091011\n",
      "100/200\n",
      "[19] loss: 154.26367610692978\n",
      "100/200\n",
      "[20] loss: 154.04408752918243\n",
      "100/200\n",
      "[21] loss: 153.8422770500183\n",
      "100/200\n",
      "[22] loss: 153.6240416765213\n",
      "100/200\n",
      "[23] loss: 153.36565721035004\n",
      "100/200\n",
      "[24] loss: 153.11784046888351\n",
      "100/200\n",
      "[25] loss: 152.86102718114853\n",
      "100/200\n",
      "[26] loss: 152.5809178352356\n",
      "100/200\n",
      "[27] loss: 152.29644536972046\n",
      "100/200\n",
      "[28] loss: 151.9803186058998\n",
      "100/200\n",
      "[29] loss: 151.6973472237587\n",
      "100/200\n",
      "[30] loss: 151.40038228034973\n",
      "100/200\n",
      "[31] loss: 151.14620035886765\n",
      "100/200\n",
      "[32] loss: 150.79344975948334\n",
      "100/200\n",
      "[33] loss: 150.49319380521774\n",
      "100/200\n",
      "[34] loss: 150.16494563221931\n",
      "100/200\n",
      "[35] loss: 149.86339777708054\n",
      "100/200\n",
      "[36] loss: 149.5488942861557\n",
      "100/200\n",
      "[37] loss: 149.252396017313\n",
      "100/200\n",
      "[38] loss: 148.98459753394127\n",
      "100/200\n",
      "[39] loss: 148.64524763822556\n",
      "100/200\n",
      "[40] loss: 148.3979786336422\n",
      "100/200\n",
      "[41] loss: 148.19028756022453\n",
      "100/200\n",
      "[42] loss: 147.9396552145481\n",
      "100/200\n",
      "[43] loss: 147.75526279211044\n",
      "100/200\n",
      "[44] loss: 147.5252577662468\n",
      "100/200\n",
      "[45] loss: 147.34447765350342\n",
      "100/200\n",
      "[46] loss: 147.1192351579666\n",
      "100/200\n",
      "[47] loss: 146.88928693532944\n",
      "100/200\n",
      "[48] loss: 146.65786242485046\n",
      "100/200\n",
      "[49] loss: 146.43007457256317\n",
      "100/200\n",
      "[50] loss: 146.21817606687546\n",
      "100/200\n",
      "[51] loss: 146.01932814717293\n",
      "100/200\n",
      "[52] loss: 145.8604095876217\n",
      "100/200\n",
      "[53] loss: 145.65852689743042\n",
      "100/200\n",
      "[54] loss: 145.43264004588127\n",
      "100/200\n",
      "[55] loss: 145.21203887462616\n",
      "100/200\n",
      "[56] loss: 145.01175990700722\n",
      "100/200\n",
      "[57] loss: 144.86439335346222\n",
      "100/200\n",
      "[58] loss: 144.71449342370033\n",
      "100/200\n",
      "[59] loss: 144.51288628578186\n",
      "100/200\n",
      "[60] loss: 144.39158007502556\n",
      "100/200\n",
      "[61] loss: 144.21798965334892\n",
      "100/200\n",
      "[62] loss: 144.08001047372818\n",
      "100/200\n",
      "[63] loss: 143.9623962342739\n",
      "100/200\n",
      "[64] loss: 143.74543330073357\n",
      "100/200\n",
      "[65] loss: 143.6317961215973\n",
      "100/200\n",
      "[66] loss: 143.51569846272469\n",
      "100/200\n",
      "[67] loss: 143.3572103381157\n",
      "100/200\n",
      "[68] loss: 143.160825163126\n",
      "100/200\n",
      "[69] loss: 142.95444440841675\n",
      "100/200\n",
      "[70] loss: 142.75677877664566\n",
      "100/200\n",
      "[71] loss: 142.56033685803413\n",
      "99/200\n",
      "[72] loss: 142.36895740032196\n",
      "100/200\n",
      "[73] loss: 142.16696178913116\n",
      "101/200\n",
      "[74] loss: 141.93781799077988\n",
      "103/200\n",
      "[75] loss: 141.5102405846119\n",
      "109/200\n",
      "[76] loss: 139.13127067685127\n",
      "109/200\n",
      "[77] loss: 137.71101039648056\n",
      "107/200\n",
      "[78] loss: 136.9554322063923\n",
      "110/200\n",
      "[79] loss: 136.40105935931206\n",
      "110/200\n",
      "[80] loss: 135.65008181333542\n",
      "110/200\n",
      "[81] loss: 135.17149764299393\n",
      "110/200\n",
      "[82] loss: 134.50284233689308\n",
      "111/200\n",
      "[83] loss: 134.00001257658005\n",
      "111/200\n",
      "[84] loss: 133.42577347159386\n",
      "113/200\n",
      "[85] loss: 132.90277194976807\n",
      "111/200\n",
      "[86] loss: 132.38034281134605\n",
      "114/200\n",
      "[87] loss: 131.8896166086197\n",
      "113/200\n",
      "[88] loss: 131.45933601260185\n",
      "113/200\n",
      "[89] loss: 131.01086035370827\n",
      "113/200\n",
      "[90] loss: 130.435967117548\n",
      "114/200\n",
      "[91] loss: 129.9213455915451\n",
      "115/200\n",
      "[92] loss: 129.3651840686798\n",
      "115/200\n",
      "[93] loss: 128.84428840875626\n",
      "115/200\n",
      "[94] loss: 128.24859511852264\n",
      "115/200\n",
      "[95] loss: 127.6540576517582\n",
      "114/200\n",
      "[96] loss: 127.09099516272545\n",
      "115/200\n",
      "[97] loss: 126.42888608574867\n",
      "113/200\n",
      "[98] loss: 125.74646124243736\n",
      "115/200\n",
      "[99] loss: 125.16339486837387\n",
      "114/200\n",
      "[100] loss: 124.48485791683197\n",
      "114/200\n",
      "Finished Training\n"
     ]
    }
   ],
   "source": [
    "logs_loss = []\n",
    "logs_accuracy = []\n",
    "\n",
    "for epoch in range(100):\n",
    "    running_loss = 0.0\n",
    "    model.train()\n",
    "    for i, data in enumerate(trainloader, 0):\n",
    "        # get the inputs; data is a list of [inputs, labels]\n",
    "        inputs, labels = data\n",
    "        # print(labels)\n",
    "\n",
    "        # zero the parameter gradients\n",
    "        optimizer.zero_grad()\n",
    "\n",
    "        # forward + backward + optimize\n",
    "        outputs = model(inputs)\n",
    "        \n",
    "        # print(inputs)\n",
    "\n",
    "        loss = criterion(outputs, labels)\n",
    "        loss.backward()\n",
    "        \n",
    "        optimizer.step()\n",
    "\n",
    "        # print statistics\n",
    "        running_loss += loss.item()\n",
    "        \n",
    "        # if i%40 == 19:\n",
    "        #     print(f'[epoch {epoch + 1}, batch {(i+1)//20}] loss: {running_loss}')\n",
    "        \n",
    "    print(f'[{epoch + 1}] loss: {running_loss}')\n",
    "    corr, total = measure(False, True)\n",
    "    \n",
    "    logs_loss.append(running_loss)\n",
    "    logs_accuracy.append(corr/total)\n",
    "\n",
    "print('Finished Training')"
   ]
  },
  {
   "cell_type": "code",
   "execution_count": 637,
   "id": "0845d862-b038-4317-9876-768150d1c4b1",
   "metadata": {},
   "outputs": [
    {
     "data": {
      "text/plain": [
       "[<matplotlib.lines.Line2D at 0x18206b2c648>]"
      ]
     },
     "execution_count": 637,
     "metadata": {},
     "output_type": "execute_result"
    },
    {
     "data": {
      "image/png": "[encoded data removed]",
      "text/plain": [
       "<Figure size 432x288 with 1 Axes>"
      ]
     },
     "metadata": {
      "needs_background": "light"
     },
     "output_type": "display_data"
    }
   ],
   "source": [
    "plt.plot(logs_loss)"
   ]
  },
  {
   "cell_type": "code",
   "execution_count": 638,
   "id": "cd7dd786-4910-4569-9aa3-a85a4311432f",
   "metadata": {},
   "outputs": [
    {
     "data": {
      "text/plain": [
       "[<matplotlib.lines.Line2D at 0x18206b24888>]"
      ]
     },
     "execution_count": 638,
     "metadata": {},
     "output_type": "execute_result"
    },
    {
     "data": {
      "image/png": "[encoded data removed]",
      "text/plain": [
       "<Figure size 432x288 with 1 Axes>"
      ]
     },
     "metadata": {
      "needs_background": "light"
     },
     "output_type": "display_data"
    }
   ],
   "source": [
    "plt.plot(logs_accuracy)"
   ]
  },
  {
   "cell_type": "code",
   "execution_count": 640,
   "id": "1e29cca7-846d-4feb-a66d-57c25b770324",
   "metadata": {},
   "outputs": [
    {
     "name": "stdout",
     "output_type": "stream",
     "text": [
      "114/200\n"
     ]
    }
   ],
   "source": [
    "corr, total, crr, crd, cdr, cdd = measure(False, True)"
   ]
  },
  {
   "cell_type": "code",
   "execution_count": 646,
   "id": "c6c75922-9de0-4c4b-ad8c-257fc4ad4f74",
   "metadata": {},
   "outputs": [
    {
     "data": {
      "text/html": [
       "<div>\n",
       "<style scoped>\n",
       "    .dataframe tbody tr th:only-of-type {\n",
       "        vertical-align: middle;\n",
       "    }\n",
       "\n",
       "    .dataframe tbody tr th {\n",
       "        vertical-align: top;\n",
       "    }\n",
       "\n",
       "    .dataframe thead tr th {\n",
       "        text-align: left;\n",
       "    }\n",
       "</style>\n",
       "<table border=\"1\" class=\"dataframe\">\n",
       "  <thead>\n",
       "    <tr>\n",
       "      <th></th>\n",
       "      <th></th>\n",
       "      <th colspan=\"2\" halign=\"left\">Actual class</th>\n",
       "    </tr>\n",
       "    <tr>\n",
       "      <th></th>\n",
       "      <th></th>\n",
       "      <th>RSA</th>\n",
       "      <th>DES</th>\n",
       "    </tr>\n",
       "  </thead>\n",
       "  <tbody>\n",
       "    <tr>\n",
       "      <th rowspan=\"2\" valign=\"top\">Predicted class</th>\n",
       "      <th>RSA</th>\n",
       "      <td>56</td>\n",
       "      <td>42</td>\n",
       "    </tr>\n",
       "    <tr>\n",
       "      <th>DES</th>\n",
       "      <td>44</td>\n",
       "      <td>58</td>\n",
       "    </tr>\n",
       "  </tbody>\n",
       "</table>\n",
       "</div>"
      ],
      "text/plain": [
       "                    Actual class    \n",
       "                             RSA DES\n",
       "Predicted class RSA           56  42\n",
       "                DES           44  58"
      ]
     },
     "execution_count": 646,
     "metadata": {},
     "output_type": "execute_result"
    }
   ],
   "source": [
    "pd.DataFrame({\n",
    "('Actual class', 'RSA'): {('Predicted class', 'RSA'): crr, ('Predicted class', 'DES'): cdr},\n",
    "('Actual class', 'DES'): {('Predicted class', 'RSA'): crd, ('Predicted class', 'DES'): cdd},\n",
    "})"
   ]
  }
 ],
 "metadata": {
  "kernelspec": {
   "display_name": "Python 3 (ipykernel)",
   "language": "python",
   "name": "python3"
  },
  "language_info": {
   "codemirror_mode": {
    "name": "ipython",
    "version": 3
   },
   "file_extension": ".py",
   "mimetype": "text/x-python",
   "name": "python",
   "nbconvert_exporter": "python",
   "pygments_lexer": "ipython3",
   "version": "3.7.11"
  }
 },
 "nbformat": 4,
 "nbformat_minor": 5
}
